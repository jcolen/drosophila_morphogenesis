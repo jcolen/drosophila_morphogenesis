{
 "cells": [
  {
   "cell_type": "code",
   "execution_count": 1,
   "id": "3d4d04ed-442c-4ff0-9434-44dc5014a85d",
   "metadata": {},
   "outputs": [
    {
     "name": "stderr",
     "output_type": "stream",
     "text": [
      "/Users/jcolen/miniconda3/envs/fly_env/lib/python3.12/site-packages/tqdm/auto.py:21: TqdmWarning: IProgress not found. Please update jupyter and ipywidgets. See https://ipywidgets.readthedocs.io/en/stable/user_install.html\n",
      "  from .autonotebook import tqdm as notebook_tqdm\n"
     ]
    }
   ],
   "source": [
    "%load_ext autoreload\n",
    "%autoreload 2\n",
    "\n",
    "import numpy as np\n",
    "import pandas as pd\n",
    "import h5py\n",
    "import os\n",
    "import glob\n",
    "import warnings\n",
    "import matplotlib.pyplot as plt\n",
    "\n",
    "from tqdm.auto import tqdm\n",
    "\n",
    "from morphogenesis.plot_utils import *\n",
    "np.set_printoptions(precision=3, suppress=True)\n",
    "\n",
    "warnings.filterwarnings('ignore')"
   ]
  },
  {
   "cell_type": "markdown",
   "id": "17e91d81-f5ab-4c11-9c69-7ef4961abb2a",
   "metadata": {
    "tags": []
   },
   "source": [
    "# Learning a model for myosin"
   ]
  },
  {
   "cell_type": "code",
   "execution_count": 5,
   "id": "73c112ea",
   "metadata": {},
   "outputs": [
    {
     "name": "stdout",
     "output_type": "stream",
     "text": [
      "['202007091200.h5', '202006261115.h5', '202008131005.h5', '202007081130.h5', '202007011145.h5', 'ensemble.h5', '202009041145.h5']\n"
     ]
    },
    {
     "name": "stderr",
     "output_type": "stream",
     "text": [
      "Collecting embryo data: 100%|██████████| 7/7 [00:07<00:00,  1.02s/it, embryo=202009041145.h5]\n"
     ]
    }
   ],
   "source": [
    "from morphogenesis.library.composite_library import fill_group_info, collect_library, take_time_derivatives, decompose_library\n",
    "from morphogenesis.library.extra_functions import *\n",
    "        \n",
    "libraries = [\n",
    "    ('m_ij', '../flydrive/Halo_Hetero_Twist[ey53]_Hetero/Sqh-GFP/derivative_library', 'tensor_library'),\n",
    "    ('v', '../flydrive/Halo_Hetero_Twist[ey53]_Hetero/Sqh-GFP/derivative_library', 'tensor_library'), # Flow couples to myosin\n",
    "    ('c', '../flydrive/WT/Moesin-GFP/derivative_library', 'scalar_library'), # Auxiliary coupled control field\n",
    "]\n",
    "    \n",
    "extra_functions = [\n",
    "    lambda data: material_derivative_terms(data, key='m_ij'),\n",
    "    lambda data: add_static_sources(data, couple='m_ij'),\n",
    "    lambda data: symmetric_tensor_couple(data, ['m_ij', 'E']),\n",
    "    lambda data: multiply_tensor_by_scalar(data, None, ['c']),\n",
    "    lambda data: delete_non_tensors(data, like='m_ij'),\n",
    "]\n",
    "\n",
    "embryos = os.listdir(f'{libraries[0][1]}')\n",
    "print(embryos)\n",
    "\n",
    "with h5py.File('myosin_fitting.h5', 'w') as h5f:\n",
    "    with tqdm(total=len(embryos)) as pbar:\n",
    "        pbar.set_description('Collecting embryo data')\n",
    "        for embryo in embryos:\n",
    "            pbar.set_postfix(embryo=embryo)\n",
    "            group, feature_names = fill_group_info(h5f, embryo, libraries)\n",
    "            collect_library(group, libraries, feature_names, extra_functions=extra_functions)\n",
    "            take_time_derivatives(group, 'm_ij', window_length=7)\n",
    "            pbar.update()"
   ]
  },
  {
   "cell_type": "code",
   "execution_count": 8,
   "id": "4b6d1e67-698d-4516-a83c-f2393d623722",
   "metadata": {},
   "outputs": [
    {
     "name": "stderr",
     "output_type": "stream",
     "text": [
      "Collecting data:   0%|          | 0/7 [00:00<?, ?it/s, embryo=202006261115]"
     ]
    },
    {
     "name": "stderr",
     "output_type": "stream",
     "text": [
      "Collecting data: 100%|██████████| 7/7 [00:01<00:00,  4.32it/s, embryo=ensemble]    \n"
     ]
    },
    {
     "name": "stdout",
     "output_type": "stream",
     "text": [
      "\n",
      "Threshold = 0.01, Alpha = 10\n",
      "D_t m_ij = (0.095 + -0.075 c) Static_DV Tr(m_ij) + (-0.207 + 0.196 c) m_ij + (0.680 + 0.170 c) m_ij Tr(E) + (1.462 + -1.303 c) m_ij Tr(m_ij)\n"
     ]
    }
   ],
   "source": [
    "from morphogenesis.modeling.sindy_utils import *\n",
    "from morphogenesis.modeling.fly_sindy import FlySINDy\n",
    "import pysindy as ps\n",
    "\n",
    "with h5py.File('myosin_fitting.h5', 'r') as h5f:\n",
    "    X, X_dot, feature_names = collect_library_terms(h5f, 'm_ij', tmin=-5, tmax=10, feature_names=None)\n",
    "\n",
    "sindy = FlySINDy(\n",
    "    optimizer=ps.STLSQ(threshold=1e-2, alpha=1e1, normalize_columns=True),\n",
    "    feature_names = feature_names,\n",
    "    n_models=10,\n",
    "    n_candidates_to_drop=0,\n",
    "    subset_fraction=0.1)\n",
    "sindy.fit(x=X, x_dot=X_dot)\n",
    "print(f'\\nThreshold = {1e-2:g}, Alpha = {1e1:g}')\n",
    "sindy.print(lhs=['D_t m_ij'])"
   ]
  },
  {
   "cell_type": "code",
   "execution_count": 19,
   "id": "1ac66860-5e4d-4dcd-baf6-da02db4a5826",
   "metadata": {},
   "outputs": [
    {
     "name": "stdout",
     "output_type": "stream",
     "text": [
      "16\n",
      "['E', 'E Tr(m_ij)', 'Static_DV', 'Static_DV Tr(m_ij)', 'c E', 'c E Tr(m_ij)', 'c Static_DV', 'c Static_DV Tr(m_ij)', 'c m_ij', 'c m_ij Tr(E)', 'c m_ij Tr(m_ij)', 'c {m_ij, E}', 'm_ij', 'm_ij Tr(E)', 'm_ij Tr(m_ij)', '{m_ij, E}']\n"
     ]
    }
   ],
   "source": [
    "print(len(sindy.feature_names))\n",
    "print(sindy.feature_names)"
   ]
  },
  {
   "cell_type": "code",
   "execution_count": 9,
   "id": "bfc81343-4a6c-46da-88dd-031cc2dd9b22",
   "metadata": {},
   "outputs": [
    {
     "name": "stderr",
     "output_type": "stream",
     "text": [
      "Collecting data: 100%|██████████| 7/7 [00:00<00:00, 15.31it/s, embryo=ensemble]    \n"
     ]
    },
    {
     "name": "stdout",
     "output_type": "stream",
     "text": [
      "\n",
      "Threshold = 0, Alpha = 0\n",
      "D_t m_ij = (-0.217 + 0.202 c) m_ij + (1.547 + -1.365 c) m_ij Tr(m_ij) + (0.664 + 0.202 c) m_ij Tr(E) + (0.095 + -0.073 c) Static_DV Tr(m_ij)\n"
     ]
    }
   ],
   "source": [
    "'''\n",
    "Repeat the fitting process restricted to the library terms above\n",
    "We do this because ensembling suppresses coefficients due to subleading terms!\n",
    "'''\n",
    "with h5py.File('myosin_fitting.h5', 'r') as h5f:\n",
    "    X, X_dot, feature_names = collect_library_terms(h5f, 'm_ij', tmin=-5, tmax=10, feature_names=overleaf_feature_names)\n",
    "\n",
    "\n",
    "#No longer threshold since we've established the above terms\n",
    "sindy = FlySINDy(\n",
    "    optimizer=ps.STLSQ(threshold=0, alpha=0, normalize_columns=True),\n",
    "    feature_names = feature_names,\n",
    "    n_models=1,\n",
    "    subset_fraction=0.1)\n",
    "sindy.fit(x=X, x_dot=X_dot)\n",
    "print(f'\\nThreshold = {0:g}, Alpha = {0:g}')\n",
    "sindy.print(lhs=['D_t m_ij'])"
   ]
  },
  {
   "cell_type": "markdown",
   "id": "cc5b143b-36b9-4720-b614-4d1df9de12a6",
   "metadata": {
    "tags": []
   },
   "source": [
    "# Learning a model for actin"
   ]
  },
  {
   "cell_type": "code",
   "execution_count": 10,
   "id": "6ca218eb-f1fc-4956-b4dc-e10978832f63",
   "metadata": {},
   "outputs": [
    {
     "name": "stdout",
     "output_type": "stream",
     "text": [
      "['202001231400.h5', '202001262040.h5', '202001271215.h5', '202001231555.h5', '202001101740.h5', '202001271700.h5', '202002111638.h5', 'ensemble.h5', '202001121330.h5', '202001261520.h5']\n"
     ]
    },
    {
     "name": "stderr",
     "output_type": "stream",
     "text": [
      "Collecting embryo data:   0%|          | 0/10 [00:00<?, ?it/s, embryo=202001231400.h5]"
     ]
    },
    {
     "name": "stderr",
     "output_type": "stream",
     "text": [
      "Collecting embryo data: 100%|██████████| 10/10 [00:04<00:00,  2.02it/s, embryo=202001261520.h5]\n"
     ]
    }
   ],
   "source": [
    "from morphogenesis.library.composite_library import fill_group_info, collect_library, take_time_derivatives, decompose_library\n",
    "from morphogenesis.library.extra_functions import *\n",
    "libraries = [\n",
    "    ('c', '../flydrive/WT/Moesin-GFP/derivative_library', 'scalar_library'), #Want cadherin dynamics\n",
    "    ('m_ij', '../flydrive/Halo_Hetero_Twist[ey53]_Hetero/Sqh-GFP/derivative_library', 'tensor_library'), #Not focused on myosin dynamics\n",
    "    ('v', '../flydrive/WT/Moesin-GFP/derivative_library', 'tensor_library'), #Not focused on flow dynamics\n",
    "]\n",
    "\n",
    "    \n",
    "extra_functions = [\n",
    "    lambda data: material_derivative_terms(data, key='c'),\n",
    "    lambda data: add_v_squared(data),\n",
    "    lambda data: tensor_trace(data, keys=['m_ij', 'E']),\n",
    "    lambda data: scalar_couple(data, keys=['c', 'Tr(E)', 'Tr(m_ij)']),\n",
    "    lambda data: delete_high_order_scalars(data, max_space_order=1),\n",
    "    lambda data: delete_non_scalars(data, like='c'),\n",
    "]\n",
    "\n",
    "embryos = os.listdir(f'{libraries[0][1]}')\n",
    "print(embryos)\n",
    "\n",
    "with h5py.File('actin_fitting.h5', 'w') as h5f:\n",
    "    with tqdm(total=len(embryos)) as pbar:\n",
    "        pbar.set_description('Collecting embryo data')\n",
    "        for embryo in embryos:\n",
    "            pbar.set_postfix(embryo=embryo)\n",
    "            group, feature_names = fill_group_info(h5f, embryo, libraries)\n",
    "            collect_library(group, libraries, feature_names, extra_functions=extra_functions)\n",
    "            take_time_derivatives(group, 'c', window_length=7)\n",
    "            pbar.update()"
   ]
  },
  {
   "cell_type": "code",
   "execution_count": 11,
   "id": "66bde266-35d9-4518-b4ed-d8deb200f7fe",
   "metadata": {},
   "outputs": [
    {
     "name": "stderr",
     "output_type": "stream",
     "text": [
      "  0%|          | 0/10 [00:00<?, ?it/s]"
     ]
    },
    {
     "name": "stderr",
     "output_type": "stream",
     "text": [
      "Collecting data: 100%|██████████| 10/10 [00:00<00:00, 44.00it/s, embryo=ensemble]   \n"
     ]
    },
    {
     "name": "stdout",
     "output_type": "stream",
     "text": [
      "\n",
      "Threshold = 0.01, Alpha = 10\n",
      "D_t c = 0\n"
     ]
    }
   ],
   "source": [
    "from morphogenesis.modeling.sindy_utils import *\n",
    "from morphogenesis.modeling.fly_sindy import FlySINDy\n",
    "import pysindy as ps\n",
    "\n",
    "with h5py.File('actin_fitting.h5', 'r') as h5f:\n",
    "    X, X_dot, feature_names = collect_library_terms(h5f, 'c', tmin=-5, tmax=10, feature_names=None)\n",
    "\n",
    "sindy = FlySINDy(\n",
    "    optimizer=ps.STLSQ(threshold=1e-2, alpha=1e1, normalize_columns=True),\n",
    "    feature_names = feature_names,\n",
    "    n_models=10,\n",
    "    n_candidates_to_drop=0,\n",
    "    subset_fraction=0.1)\n",
    "sindy.fit(x=X, x_dot=X_dot)\n",
    "print(f'\\nThreshold = {1e-2:g}, Alpha = {1e1:g}')\n",
    "sindy.print(lhs=['D_t c'])"
   ]
  },
  {
   "cell_type": "code",
   "execution_count": null,
   "id": "8dad9cc7-6d48-45e6-b8d3-9d415e08d196",
   "metadata": {},
   "outputs": [],
   "source": []
  }
 ],
 "metadata": {
  "kernelspec": {
   "display_name": "Python 3 (ipykernel)",
   "language": "python",
   "name": "python3"
  },
  "language_info": {
   "codemirror_mode": {
    "name": "ipython",
    "version": 3
   },
   "file_extension": ".py",
   "mimetype": "text/x-python",
   "name": "python",
   "nbconvert_exporter": "python",
   "pygments_lexer": "ipython3",
   "version": "3.12.3"
  }
 },
 "nbformat": 4,
 "nbformat_minor": 5
}
